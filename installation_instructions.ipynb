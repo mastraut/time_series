{
 "metadata": {
  "name": "",
  "signature": "sha256:35912efae46de247e95456aafa1b6f78b0e9b8a2822f76335950cf7e5747e73a"
 },
 "nbformat": 3,
 "nbformat_minor": 0,
 "worksheets": [
  {
   "cells": [
    {
     "cell_type": "markdown",
     "metadata": {},
     "source": [
      "##Steps to install the newest statsmodels version\n",
      "\n",
      "```python\n",
      "git clone https://github.com/statsmodels/statsmodels.git\n",
      "cd statsmodels\n",
      "python setup.py build_ext --inplace\n",
      "sudo python setup.py install\n",
      "```"
     ]
    },
    {
     "cell_type": "code",
     "collapsed": false,
     "input": [],
     "language": "python",
     "metadata": {},
     "outputs": []
    }
   ],
   "metadata": {}
  }
 ]
}